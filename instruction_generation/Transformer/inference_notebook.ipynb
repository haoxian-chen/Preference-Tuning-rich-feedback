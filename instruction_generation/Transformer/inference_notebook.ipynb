{
 "cells": [
  {
   "cell_type": "code",
   "execution_count": 1,
   "metadata": {},
   "outputs": [
    {
     "name": "stdout",
     "output_type": "stream",
     "text": [
      "Requirement already satisfied: accelerate>=0.26.0 in /home/hanyang/anaconda3/envs/rich_feedback/lib/python3.11/site-packages (1.1.1)\n",
      "Requirement already satisfied: huggingface-hub>=0.21.0 in /home/hanyang/anaconda3/envs/rich_feedback/lib/python3.11/site-packages (from accelerate>=0.26.0) (0.26.3)\n",
      "Requirement already satisfied: numpy<3.0.0,>=1.17 in /home/hanyang/anaconda3/envs/rich_feedback/lib/python3.11/site-packages (from accelerate>=0.26.0) (1.26.4)\n",
      "Requirement already satisfied: packaging>=20.0 in /home/hanyang/anaconda3/envs/rich_feedback/lib/python3.11/site-packages (from accelerate>=0.26.0) (24.2)\n",
      "Requirement already satisfied: psutil in /home/hanyang/anaconda3/envs/rich_feedback/lib/python3.11/site-packages (from accelerate>=0.26.0) (6.1.0)\n",
      "Requirement already satisfied: pyyaml in /home/hanyang/anaconda3/envs/rich_feedback/lib/python3.11/site-packages (from accelerate>=0.26.0) (6.0.2)\n",
      "Requirement already satisfied: safetensors>=0.4.3 in /home/hanyang/anaconda3/envs/rich_feedback/lib/python3.11/site-packages (from accelerate>=0.26.0) (0.4.5)\n",
      "Requirement already satisfied: torch>=1.10.0 in /home/hanyang/anaconda3/envs/rich_feedback/lib/python3.11/site-packages (from accelerate>=0.26.0) (2.5.1)\n",
      "Requirement already satisfied: filelock in /home/hanyang/anaconda3/envs/rich_feedback/lib/python3.11/site-packages (from huggingface-hub>=0.21.0->accelerate>=0.26.0) (3.16.1)\n",
      "Requirement already satisfied: fsspec>=2023.5.0 in /home/hanyang/anaconda3/envs/rich_feedback/lib/python3.11/site-packages (from huggingface-hub>=0.21.0->accelerate>=0.26.0) (2024.9.0)\n",
      "Requirement already satisfied: requests in /home/hanyang/anaconda3/envs/rich_feedback/lib/python3.11/site-packages (from huggingface-hub>=0.21.0->accelerate>=0.26.0) (2.32.3)\n",
      "Requirement already satisfied: tqdm>=4.42.1 in /home/hanyang/anaconda3/envs/rich_feedback/lib/python3.11/site-packages (from huggingface-hub>=0.21.0->accelerate>=0.26.0) (4.67.1)\n",
      "Requirement already satisfied: typing-extensions>=3.7.4.3 in /home/hanyang/anaconda3/envs/rich_feedback/lib/python3.11/site-packages (from huggingface-hub>=0.21.0->accelerate>=0.26.0) (4.12.2)\n",
      "Requirement already satisfied: networkx in /home/hanyang/anaconda3/envs/rich_feedback/lib/python3.11/site-packages (from torch>=1.10.0->accelerate>=0.26.0) (3.4.2)\n",
      "Requirement already satisfied: jinja2 in /home/hanyang/anaconda3/envs/rich_feedback/lib/python3.11/site-packages (from torch>=1.10.0->accelerate>=0.26.0) (3.1.4)\n",
      "Requirement already satisfied: nvidia-cuda-nvrtc-cu12==12.4.127 in /home/hanyang/anaconda3/envs/rich_feedback/lib/python3.11/site-packages (from torch>=1.10.0->accelerate>=0.26.0) (12.4.127)\n",
      "Requirement already satisfied: nvidia-cuda-runtime-cu12==12.4.127 in /home/hanyang/anaconda3/envs/rich_feedback/lib/python3.11/site-packages (from torch>=1.10.0->accelerate>=0.26.0) (12.4.127)\n",
      "Requirement already satisfied: nvidia-cuda-cupti-cu12==12.4.127 in /home/hanyang/anaconda3/envs/rich_feedback/lib/python3.11/site-packages (from torch>=1.10.0->accelerate>=0.26.0) (12.4.127)\n",
      "Requirement already satisfied: nvidia-cudnn-cu12==9.1.0.70 in /home/hanyang/anaconda3/envs/rich_feedback/lib/python3.11/site-packages (from torch>=1.10.0->accelerate>=0.26.0) (9.1.0.70)\n",
      "Requirement already satisfied: nvidia-cublas-cu12==12.4.5.8 in /home/hanyang/anaconda3/envs/rich_feedback/lib/python3.11/site-packages (from torch>=1.10.0->accelerate>=0.26.0) (12.4.5.8)\n",
      "Requirement already satisfied: nvidia-cufft-cu12==11.2.1.3 in /home/hanyang/anaconda3/envs/rich_feedback/lib/python3.11/site-packages (from torch>=1.10.0->accelerate>=0.26.0) (11.2.1.3)\n",
      "Requirement already satisfied: nvidia-curand-cu12==10.3.5.147 in /home/hanyang/anaconda3/envs/rich_feedback/lib/python3.11/site-packages (from torch>=1.10.0->accelerate>=0.26.0) (10.3.5.147)\n",
      "Requirement already satisfied: nvidia-cusolver-cu12==11.6.1.9 in /home/hanyang/anaconda3/envs/rich_feedback/lib/python3.11/site-packages (from torch>=1.10.0->accelerate>=0.26.0) (11.6.1.9)\n",
      "Requirement already satisfied: nvidia-cusparse-cu12==12.3.1.170 in /home/hanyang/anaconda3/envs/rich_feedback/lib/python3.11/site-packages (from torch>=1.10.0->accelerate>=0.26.0) (12.3.1.170)\n",
      "Requirement already satisfied: nvidia-nccl-cu12==2.21.5 in /home/hanyang/anaconda3/envs/rich_feedback/lib/python3.11/site-packages (from torch>=1.10.0->accelerate>=0.26.0) (2.21.5)\n",
      "Requirement already satisfied: nvidia-nvtx-cu12==12.4.127 in /home/hanyang/anaconda3/envs/rich_feedback/lib/python3.11/site-packages (from torch>=1.10.0->accelerate>=0.26.0) (12.4.127)\n",
      "Requirement already satisfied: nvidia-nvjitlink-cu12==12.4.127 in /home/hanyang/anaconda3/envs/rich_feedback/lib/python3.11/site-packages (from torch>=1.10.0->accelerate>=0.26.0) (12.4.127)\n",
      "Requirement already satisfied: triton==3.1.0 in /home/hanyang/anaconda3/envs/rich_feedback/lib/python3.11/site-packages (from torch>=1.10.0->accelerate>=0.26.0) (3.1.0)\n",
      "Requirement already satisfied: sympy==1.13.1 in /home/hanyang/anaconda3/envs/rich_feedback/lib/python3.11/site-packages (from torch>=1.10.0->accelerate>=0.26.0) (1.13.1)\n",
      "Requirement already satisfied: mpmath<1.4,>=1.1.0 in /home/hanyang/anaconda3/envs/rich_feedback/lib/python3.11/site-packages (from sympy==1.13.1->torch>=1.10.0->accelerate>=0.26.0) (1.3.0)\n",
      "Requirement already satisfied: MarkupSafe>=2.0 in /home/hanyang/anaconda3/envs/rich_feedback/lib/python3.11/site-packages (from jinja2->torch>=1.10.0->accelerate>=0.26.0) (3.0.2)\n",
      "Requirement already satisfied: charset-normalizer<4,>=2 in /home/hanyang/anaconda3/envs/rich_feedback/lib/python3.11/site-packages (from requests->huggingface-hub>=0.21.0->accelerate>=0.26.0) (3.4.0)\n",
      "Requirement already satisfied: idna<4,>=2.5 in /home/hanyang/anaconda3/envs/rich_feedback/lib/python3.11/site-packages (from requests->huggingface-hub>=0.21.0->accelerate>=0.26.0) (3.10)\n",
      "Requirement already satisfied: urllib3<3,>=1.21.1 in /home/hanyang/anaconda3/envs/rich_feedback/lib/python3.11/site-packages (from requests->huggingface-hub>=0.21.0->accelerate>=0.26.0) (2.2.3)\n",
      "Requirement already satisfied: certifi>=2017.4.17 in /home/hanyang/anaconda3/envs/rich_feedback/lib/python3.11/site-packages (from requests->huggingface-hub>=0.21.0->accelerate>=0.26.0) (2024.8.30)\n"
     ]
    }
   ],
   "source": [
    "!pip install 'accelerate>=0.26.0'"
   ]
  },
  {
   "cell_type": "code",
   "execution_count": 1,
   "metadata": {},
   "outputs": [
    {
     "name": "stdout",
     "output_type": "stream",
     "text": [
      "Loading model and processor...\n",
      "Loading checkpoint shards: 100%|██████████████████| 5/5 [00:06<00:00,  1.26s/it]\n",
      "Loading dataset: ziyu3141/rf_train_100_2\n",
      "Test mode enabled: processing only the first 2 samples\n",
      "Generating instructions...\n",
      "<PIL.Image.Image image mode=RGB size=768x768 at 0x7A4DC8400ED0>\n",
      "<PIL.Image.Image image mode=RGB size=768x768 at 0x7A4DABB74550>\n",
      "Predictions saved successfully to <_io.TextIOWrapper name='/home/hanyang/Preference-Tuning-rick-feedback/instruction_generation/generated_instructions/instructions.txt' mode='w' encoding='UTF-8'>\n"
     ]
    }
   ],
   "source": [
    "!python /home/hanyang/Preference-Tuning-rick-feedback/instruction_generation/Transformer/inference.py --dataset_name \"ziyu3141/rf_train_100_2\" --test --num_test_samples 2"
   ]
  },
  {
   "cell_type": "code",
   "execution_count": null,
   "metadata": {},
   "outputs": [],
   "source": []
  }
 ],
 "metadata": {
  "kernelspec": {
   "display_name": "rich_feedback",
   "language": "python",
   "name": "python3"
  },
  "language_info": {
   "codemirror_mode": {
    "name": "ipython",
    "version": 3
   },
   "file_extension": ".py",
   "mimetype": "text/x-python",
   "name": "python",
   "nbconvert_exporter": "python",
   "pygments_lexer": "ipython3",
   "version": "3.11.10"
  }
 },
 "nbformat": 4,
 "nbformat_minor": 2
}
